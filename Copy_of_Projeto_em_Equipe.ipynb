{
  "nbformat": 4,
  "nbformat_minor": 0,
  "metadata": {
    "colab": {
      "provenance": [],
      "toc_visible": true,
      "include_colab_link": true
    },
    "kernelspec": {
      "name": "python3",
      "display_name": "Python 3"
    },
    "language_info": {
      "name": "python"
    }
  },
  "cells": [
    {
      "cell_type": "markdown",
      "metadata": {
        "id": "view-in-github",
        "colab_type": "text"
      },
      "source": [
        "<a href=\"https://colab.research.google.com/github/Raatexx/Raatexx/blob/main/Copy_of_Projeto_em_Equipe.ipynb\" target=\"_parent\"><img src=\"https://colab.research.google.com/assets/colab-badge.svg\" alt=\"Open In Colab\"/></a>"
      ]
    },
    {
      "cell_type": "markdown",
      "source": [
        "**Se ainda não o fez, pressione:**\n",
        "\n",
        "`Arquivo` -> `Salvar uma cópia no Drive`\n",
        "\n",
        "**para copiar este caderno para sua unidade do Google e trabalhar em uma cópia. Se não fizer isso, suas alterações não serão salvas!**\n",
        "\n",
        "---\n",
        "\n",
        "Instruções: Em cada seção, você deve substituir o `XXXXX` que vê no código!\n",
        "\n",
        "---"
      ],
      "metadata": {
        "id": "g22FLAELjgK2"
      }
    },
    {
      "cell_type": "markdown",
      "source": [
        "# Preparação de Dados\n",
        "\n",
        "Este será um modelo de regressão tentando prever o saida. Demos uma dica para pelo menos um atributo usar.\n",
        "\n",
        "Real Madruga descomente o seguinte"
      ],
      "metadata": {
        "id": "UH9PdPqDaWJo"
      }
    },
    {
      "cell_type": "code",
      "source": [
        "# # Caminho para o arquivo CSV\n",
        "# caminho_do_arquivo = 'https://github.com/MMembreno/MISTI-Brasil-Soccer-Analytics-GTL/blob/main/Dados/Projeto/D_classifica%C3%A7%C3%B5es_dos_jogadores.csv'\n",
        "\n",
        "# saida = 'Classificacao do Jogador'\n",
        "# atributos = 'Gols'"
      ],
      "metadata": {
        "id": "-AqV06YkbbsN"
      },
      "execution_count": null,
      "outputs": []
    },
    {
      "cell_type": "markdown",
      "source": [
        "LOCK'S descomente o seguinte"
      ],
      "metadata": {
        "id": "KmMFqkwkbcNB"
      }
    },
    {
      "cell_type": "code",
      "source": [
        "# # Caminho para o arquivo CSV\n",
        "# caminho_do_arquivo = 'https://raw.githubusercontent.com/MMembreno/MISTI-Brasil-Soccer-Analytics-GTL/main/Dados/Projeto/A_partidas_de_futebol.csv'\n",
        "\n",
        "# saida = 'Diferenca de Golos da Equipa da Casa'\n",
        "# atributos = 'Posicao da Equipa da Casa na Liga'"
      ],
      "metadata": {
        "id": "CRPeTMsfYYPZ"
      },
      "execution_count": null,
      "outputs": []
    },
    {
      "cell_type": "markdown",
      "source": [
        "Grêngo descomente o seguinte"
      ],
      "metadata": {
        "id": "tw2AsL6YbBkl"
      }
    },
    {
      "cell_type": "code",
      "source": [
        "# # Caminho para o arquivo CSV\n",
        "caminho_do_arquivo = 'https://raw.githubusercontent.com/MMembreno/MISTI-Brasil-Soccer-Analytics-GTL/main/Dados/Projeto/F_violencia_entre_torcidas.csv'\n",
        "\n",
        "saida = 'Gravidade dos Incidentes'\n",
        "atributos = 'Rivalidade Historica'"
      ],
      "metadata": {
        "id": "x5057ToubBsR"
      },
      "execution_count": 1,
      "outputs": []
    },
    {
      "cell_type": "markdown",
      "source": [
        "## Passo 0: Importar Pacotes"
      ],
      "metadata": {
        "id": "hBPCCYrAkPQD"
      }
    },
    {
      "cell_type": "code",
      "source": [
        "import pandas as pd # Importa o pacote Pandas, útil para manipulação de dados"
      ],
      "metadata": {
        "id": "N2gbhS3uYHa0"
      },
      "execution_count": 2,
      "outputs": []
    },
    {
      "cell_type": "markdown",
      "source": [
        "## Passo 1: Importar Dados"
      ],
      "metadata": {
        "id": "k2kliPdwb9zt"
      }
    },
    {
      "cell_type": "code",
      "source": [
        "# Ler os dados para um DataFrame do Pandas\n",
        "df = pd.read_csv(caminho_do_arquivo)\n",
        "# 'df' é a abreviação de DataFrame, uma estrutura de dados similar a uma tabela."
      ],
      "metadata": {
        "id": "nmXEeUc3YIzP"
      },
      "execution_count": 3,
      "outputs": []
    },
    {
      "cell_type": "markdown",
      "source": [
        "## Passo 2: Explorar dados\n",
        "\n",
        "Tente visualizar algumas coisas com o que usamos no Colab Notebook 2 e 3.\n",
        "\n",
        "Para a saida, calcule a média, o desvio padrão e tente traçar a distribuição normal com base naqueles com plotar_uma_distribuicao_normal()\n",
        "\n"
      ],
      "metadata": {
        "id": "vkvYF0R7kWDa"
      }
    },
    {
      "cell_type": "code",
      "source": [
        "# NumPy é uma biblioteca fundamental para computação científica em Python. Ela oferece suporte para arrays (semelhantes a listas,\n",
        "# mas com funcionalidades aprimoradas), matrizes e uma infinidade de operações matemáticas sobre essas estruturas de dados. É\n",
        "# amplamente utilizada em diversas áreas da ciência e engenharia por suas estruturas de dados poderosas que podem lidar com\n",
        "# grandes conjuntos de dados e dados multidimensionais de forma eficiente.\n",
        "\n",
        "import numpy as np\n",
        "\n",
        "# O módulo stats do SciPy é parte da biblioteca SciPy, que é usada para computação científica e técnica. O 'norm' do scipy.stats\n",
        "# é especificamente utilizado para criar e trabalhar com uma distribuição normal (Gaussiana). Ele fornece ferramentas para gerar\n",
        "# variáveis aleatórias, calcular funções de densidade de probabilidade, funções de distribuição acumulada e muito mais. É\n",
        "# essencial para análise estatística e é uma pedra angular em campos como economia, psicologia, biologia e engenharia.\n",
        "\n",
        "from scipy.stats import norm\n",
        "\n",
        "# Já vimos isso\n",
        "import matplotlib.pyplot as plt"
      ],
      "metadata": {
        "id": "-9BEuZVRdC1k"
      },
      "execution_count": 4,
      "outputs": []
    },
    {
      "cell_type": "code",
      "source": [
        "# Definição de função auxiliar para você usar. Veja quais são as entradas\n",
        "# e o exemplo também.\n",
        "def plotar_uma_distribuicao_normal(media, desvio_padrao, valor_linha_media, valor_linha_desvio):\n",
        "    \"\"\"\n",
        "    Função para plotar uma distribuição normal com linhas verticais na média e no desvio padrão.\n",
        "\n",
        "    Parâmetros:\n",
        "    media (float): A média da distribuição normal.\n",
        "    desvio_padrao (float): O desvio padrão da distribuição normal.\n",
        "    valor_linha_media (float): O valor onde a linha vertical da média será plotada.\n",
        "    valor_linha_desvio (float): O valor onde a linha vertical de um desvio padrão será plotada.\n",
        "    \"\"\"\n",
        "\n",
        "    # Gerando pontos no eixo x para a distribuição\n",
        "    pontos = np.linspace(media - 3*desvio_padrao, media + 3*desvio_padrao, 100)\n",
        "\n",
        "    # Calculando a probabilidade de cada ponto para a distribuição\n",
        "    plt.plot(pontos, norm.pdf(pontos, media, desvio_padrao), label='Distribuição Normal')\n",
        "\n",
        "    # Adicionando uma linha vertical azul na média\n",
        "    plt.axvline(valor_linha_media, color='b', linestyle='dashed', linewidth=2, label='Média')\n",
        "\n",
        "    # Adicionando uma linha vertical verde em um desvio padrão\n",
        "    plt.axvline(valor_linha_desvio, color='g', linestyle='dashed', linewidth=2, label='1 Desvio Padrão')\n",
        "\n",
        "    # Adicionando título, rótulos e legenda\n",
        "    plt.title('Distribuição Normal com Linhas na Média e Desvio Padrão')\n",
        "    plt.xlabel('Valores')\n",
        "    plt.ylabel('Probabilidade')\n",
        "    plt.legend()\n",
        "\n",
        "    # Exibindo o gráfico\n",
        "    plt.show()\n",
        "\n",
        "# Exemplo de uso da função\n",
        "# media=0 sintaxe é como definir a função nas entradas em vez de nas linhas antes de usar a função.\n",
        "plotar_uma_distribuicao_normal(media=0, desvio_padrao=1, valor_linha_media=0, valor_linha_desvio=1)\n"
      ],
      "metadata": {
        "id": "8qF5gpD_kbGi",
        "colab": {
          "base_uri": "https://localhost:8080/",
          "height": 472
        },
        "outputId": "0d8a74b3-dee7-4d7a-8dee-a2602c6ccfd4"
      },
      "execution_count": 5,
      "outputs": [
        {
          "output_type": "display_data",
          "data": {
            "text/plain": [
              "<Figure size 640x480 with 1 Axes>"
            ],
            "image/png": "[encoded data removed]"
          },
          "metadata": {}
        }
      ]
    },
    {
      "cell_type": "markdown",
      "source": [
        "## Passo 3: Divisão de treinamento/teste\n",
        "\n",
        "Para entender isso um pouco mais, vamos dar uma olhada apenas nas primeiras dez linhas dos dados que importamos\n",
        "\n",
        "Em seguida, ampliaremos todo o conjunto de dados"
      ],
      "metadata": {
        "id": "TmIUr6Ejcqdv"
      }
    },
    {
      "cell_type": "code",
      "source": [
        "# Vamos visualizar alguns dados, vamos extrair apenas os primeiros 10 pontos de dados\n",
        "df10 = df.head(10)\n",
        "print(df10)"
      ],
      "metadata": {
        "colab": {
          "base_uri": "https://localhost:8080/"
        },
        "id": "SKEy7PtMdc8C",
        "outputId": "e6848baa-ea8a-418d-ed92-d05d18adf877"
      },
      "execution_count": 15,
      "outputs": [
        {
          "output_type": "stream",
          "name": "stdout",
          "text": [
            "   Gravidade dos Incidentes  Rivalidade Historica  \\\n",
            "0                  4.712569                     3   \n",
            "1                  0.500000                     1   \n",
            "2                  0.991405                     4   \n",
            "3                  4.297446                     5   \n",
            "4                  5.374168                     2   \n",
            "5                  2.435064                     2   \n",
            "6                  4.063877                     2   \n",
            "7                  3.269295                     5   \n",
            "8                  1.975955                     0   \n",
            "9                  2.484344                     5   \n",
            "\n",
            "   Distancia entre Cidades dos Times  Consumo de Alcool  \\\n",
            "0                                 54                  4   \n",
            "1                                487                  0   \n",
            "2                                215                  0   \n",
            "3                                495                  3   \n",
            "4                                 74                  4   \n",
            "5                                557                  2   \n",
            "6                                147                  5   \n",
            "7                                317                  3   \n",
            "8                                711                  4   \n",
            "9                                442                  2   \n",
            "\n",
            "   Presenca de Seguranca  Incidentes de Violencia Passados  Temperatura  \\\n",
            "0                     21                                 3           21   \n",
            "1                    253                                 2           25   \n",
            "2                    112                                 2           21   \n",
            "3                    285                                 2           22   \n",
            "4                     16                                 2           18   \n",
            "5                    356                                 4           24   \n",
            "6                    464                                 5           34   \n",
            "7                    139                                 2           29   \n",
            "8                    308                                 2           29   \n",
            "9                    106                                 1           33   \n",
            "\n",
            "   Dia da Semana  Chuva  Sequencia de Vitorias do Time  \\\n",
            "0              7      0                              0   \n",
            "1              5      0                              5   \n",
            "2              7      1                              3   \n",
            "3              2      1                              9   \n",
            "4              1      0                              9   \n",
            "5              6      0                              0   \n",
            "6              3      0                              3   \n",
            "7              6      0                              9   \n",
            "8              6      0                              0   \n",
            "9              2      0                              7   \n",
            "\n",
            "   Mistura na Zona dos Fas  Jogo Noite Adentro  \\\n",
            "0                        1                   0   \n",
            "1                        0                   0   \n",
            "2                        0                   0   \n",
            "3                        1                   1   \n",
            "4                        1                   1   \n",
            "5                        0                   0   \n",
            "6                        0                   0   \n",
            "7                        0                   1   \n",
            "8                        1                   1   \n",
            "9                        1                   0   \n",
            "\n",
            "   Numero de Barracas de Concessao  Distancia de Viagem do Time Adversario  \n",
            "0                               15                                     301  \n",
            "1                                3                                     396  \n",
            "2                               11                                     246  \n",
            "3                               10                                     202  \n",
            "4                               17                                     636  \n",
            "5                                8                                     164  \n",
            "6                                5                                     634  \n",
            "7                               19                                     869  \n",
            "8                               13                                     649  \n",
            "9                               15                                     807  \n"
          ]
        }
      ]
    },
    {
      "cell_type": "code",
      "source": [
        "# A função 'train_test_split' da biblioteca scikit-learn é utilizada para dividir\n",
        "# arrays ou matrizes de dados em dois subconjuntos:\n",
        "# um para treinamento e outro para teste. Isso é útil para avaliar a performance\n",
        "# de um modelo de machine learning de forma justa,\n",
        "# usando o conjunto de teste que não foi visto pelo modelo durante o treinamento.\n",
        "from sklearn.model_selection import train_test_split"
      ],
      "metadata": {
        "id": "DeUVzh_he0wn"
      },
      "execution_count": 7,
      "outputs": []
    },
    {
      "cell_type": "code",
      "source": [
        "# let's start by creating a simple list from 0 - 9\n",
        "lista = list(range(10))\n",
        "print(lista)"
      ],
      "metadata": {
        "id": "mrKLX11-e2hI",
        "colab": {
          "base_uri": "https://localhost:8080/"
        },
        "outputId": "453e2a99-14c5-4bd0-878a-8c80a466e04c"
      },
      "execution_count": 8,
      "outputs": [
        {
          "output_type": "stream",
          "name": "stdout",
          "text": [
            "[0, 1, 2, 3, 4, 5, 6, 7, 8, 9]\n"
          ]
        }
      ]
    },
    {
      "cell_type": "code",
      "source": [
        "# now let's use this list and train/test split\n",
        "# to start, we need to set what split % we want\n",
        "# in the function train_test_split\n",
        "# percent of test, 0.2 = 20%. That means train is what is remaining = 100% - 20% = 80%\n",
        "teste_percentual = 0.2\n",
        "\n",
        "# this randomly splits up the list, see how it gets split up\n",
        "# keep running this cell and see how the values change\n",
        "lista_trein, lista_teste = train_test_split(lista, test_size=teste_percentual)\n",
        "print('Lista treinamento', lista_trein)\n",
        "print('Lista test', lista_teste)"
      ],
      "metadata": {
        "id": "jYgDm9dpe5FM",
        "colab": {
          "base_uri": "https://localhost:8080/"
        },
        "outputId": "bb66c582-5217-4493-ea15-05e15b9c5042"
      },
      "execution_count": 9,
      "outputs": [
        {
          "output_type": "stream",
          "name": "stdout",
          "text": [
            "Lista treinamento [7, 3, 6, 9, 1, 0, 2, 4]\n",
            "Lista test [8, 5]\n"
          ]
        }
      ]
    },
    {
      "cell_type": "code",
      "source": [
        "# now we will introduce this thing call the random state\n",
        "# random state is essentially a way for us to reproduce results for this \"random\" assortment\n",
        "# so now keep running this script, do the values change?\n",
        "lista_trein, lista_teste = train_test_split(lista, test_size=teste_percentual, random_state=144)\n",
        "print('Lista treinamento', lista_trein)\n",
        "print('Lista test', lista_teste)\n",
        "\n",
        "# now change the number to the right of random_state=XXXXX and see how the values change\n",
        "# after you are done changing it, please change it back to random_state=123\n",
        "# this will be the default value of the workshop"
      ],
      "metadata": {
        "id": "rO7RUBDhe6qo",
        "colab": {
          "base_uri": "https://localhost:8080/"
        },
        "outputId": "c7d9d2a3-e766-43d8-804c-aef025565b0e"
      },
      "execution_count": 13,
      "outputs": [
        {
          "output_type": "stream",
          "name": "stdout",
          "text": [
            "Lista treinamento [0, 4, 2, 3, 9, 6, 8, 7]\n",
            "Lista test [5, 1]\n"
          ]
        }
      ]
    },
    {
      "cell_type": "code",
      "source": [
        "# Now lets do it with our data set, pay attention to the indices and how they\n",
        "# match up to the order of the list above (remember to keep random_state=123)\n",
        "df_trein, df_teste = train_test_split(df10, test_size=teste_percentual, random_state=313)\n",
        "print('Dados treinamento', lista_trein)\n",
        "print('Dados test', lista_teste)"
      ],
      "metadata": {
        "id": "PNYSmSJSe8vf",
        "colab": {
          "base_uri": "https://localhost:8080/"
        },
        "outputId": "6fc46e91-a568-4ab2-d513-c873ae154313"
      },
      "execution_count": 14,
      "outputs": [
        {
          "output_type": "stream",
          "name": "stdout",
          "text": [
            "Dados treinamento [0, 4, 2, 3, 9, 6, 8, 7]\n",
            "Dados test [5, 1]\n"
          ]
        }
      ]
    },
    {
      "cell_type": "markdown",
      "source": [
        "# Gran trabajo!!! Lo hiciste. | Great job!!! You did it. 😃"
      ],
      "metadata": {
        "id": "TsdVMEOZWXyG"
      }
    }
  ]
}